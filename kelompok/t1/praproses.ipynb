{
 "cells": [
  {
   "cell_type": "code",
   "execution_count": 2,
   "metadata": {
    "collapsed": true
   },
   "outputs": [],
   "source": [
    "import numpy as np\n",
    "import pandas as pd\n",
    "import matplotlib.pyplot as plt\n",
    "import seaborn as sns\n",
    "import os\n"
   ]
  },
  {
   "cell_type": "code",
   "execution_count": 4,
   "outputs": [
    {
     "data": {
      "text/plain": "'D:\\\\Data\\\\Pemrograman\\\\Kuliah\\\\PD-A\\\\res'"
     },
     "execution_count": 4,
     "metadata": {},
     "output_type": "execute_result"
    }
   ],
   "source": [
    "# Mengganti working dir ke res\n",
    "os.chdir(\"../../res\")\n",
    "os.getcwd()"
   ],
   "metadata": {
    "collapsed": false,
    "pycharm": {
     "name": "#%%\n"
    }
   }
  },
  {
   "cell_type": "code",
   "execution_count": 5,
   "outputs": [
    {
     "data": {
      "text/plain": "       customer_id  vintage  age  gender  dependents     occupation    city  \\\n0                1     2101   66    Male         0.0  self_employed   187.0   \n1                2     2348   35    Male         0.0  self_employed     NaN   \n2                4     2194   31    Male         0.0       salaried   146.0   \n3                5     2329   90     NaN         NaN  self_employed  1020.0   \n4                6     1579   42    Male         2.0  self_employed  1494.0   \n...            ...      ...  ...     ...         ...            ...     ...   \n28377        30297     2325   10  Female         0.0        student  1020.0   \n28378        30298     1537   34  Female         0.0  self_employed  1046.0   \n28379        30299     2376   47    Male         0.0       salaried  1096.0   \n28380        30300     1745   50    Male         3.0  self_employed  1219.0   \n28381        30301     1175   18    Male         0.0        student  1232.0   \n\n       customer_nw_category  branch_code  current_balance  ...  \\\n0                         2          755          1458.71  ...   \n1                         2         3214          5390.37  ...   \n2                         2           41          3913.16  ...   \n3                         2          582          2291.91  ...   \n4                         3          388           927.72  ...   \n...                     ...          ...              ...  ...   \n28377                     2         1207          1076.43  ...   \n28378                     2          223          3844.10  ...   \n28379                     2          588         65511.97  ...   \n28380                     3          274          1625.55  ...   \n28381                     2          474          2107.05  ...   \n\n       average_monthly_balance_prevQ  average_monthly_balance_prevQ2  \\\n0                            1458.71                         1449.07   \n1                            7799.26                        12419.41   \n2                            4910.17                         2815.94   \n3                            2084.54                         1006.54   \n4                            1643.31                         1871.12   \n...                              ...                             ...   \n28377                        2282.19                         2787.70   \n28378                        3668.83                         3865.55   \n28379                       53444.81                        21925.81   \n28380                        1683.20                         1857.42   \n28381                        3213.44                         4447.45   \n\n       current_month_credit  previous_month_credit  current_month_debit  \\\n0                      0.20                   0.20                 0.20   \n1                      0.56                   0.56              5486.27   \n2                      0.61                   0.61              6046.73   \n3                      0.47                   0.47                 0.47   \n4                      0.33                 714.61               588.62   \n...                     ...                    ...                  ...   \n28377                  0.30                   0.30                 0.30   \n28378                  1.71                   2.29               901.00   \n28379               4666.84                3883.06               168.23   \n28380                  0.20                   0.20                 0.20   \n28381                  0.11                   7.44               714.40   \n\n       previous_month_debit  current_month_balance  previous_month_balance  \\\n0                      0.20                1458.71                 1458.71   \n1                    100.56                6496.78                 8787.61   \n2                    259.23                5006.28                 5070.14   \n3                   2143.33                2291.91                 1669.79   \n4                   1538.06                1157.15                 1677.16   \n...                     ...                    ...                     ...   \n28377                  0.30                1076.43                 1076.43   \n28378               1014.07                3738.54                 3690.32   \n28379                 71.80               61078.50                57564.24   \n28380                  0.20                1625.55                 1625.55   \n28381               1094.09                2402.62                 3260.58   \n\n       churn  last_transaction  \n0          0        2019-05-21  \n1          0        2019-11-01  \n2          0               NaT  \n3          1        2019-08-06  \n4          1        2019-11-03  \n...      ...               ...  \n28377      0        2019-10-22  \n28378      0        2019-12-17  \n28379      1        2019-12-31  \n28380      0               NaT  \n28381      1        2019-11-02  \n\n[28382 rows x 21 columns]",
      "text/html": "<div>\n<style scoped>\n    .dataframe tbody tr th:only-of-type {\n        vertical-align: middle;\n    }\n\n    .dataframe tbody tr th {\n        vertical-align: top;\n    }\n\n    .dataframe thead th {\n        text-align: right;\n    }\n</style>\n<table border=\"1\" class=\"dataframe\">\n  <thead>\n    <tr style=\"text-align: right;\">\n      <th></th>\n      <th>customer_id</th>\n      <th>vintage</th>\n      <th>age</th>\n      <th>gender</th>\n      <th>dependents</th>\n      <th>occupation</th>\n      <th>city</th>\n      <th>customer_nw_category</th>\n      <th>branch_code</th>\n      <th>current_balance</th>\n      <th>...</th>\n      <th>average_monthly_balance_prevQ</th>\n      <th>average_monthly_balance_prevQ2</th>\n      <th>current_month_credit</th>\n      <th>previous_month_credit</th>\n      <th>current_month_debit</th>\n      <th>previous_month_debit</th>\n      <th>current_month_balance</th>\n      <th>previous_month_balance</th>\n      <th>churn</th>\n      <th>last_transaction</th>\n    </tr>\n  </thead>\n  <tbody>\n    <tr>\n      <th>0</th>\n      <td>1</td>\n      <td>2101</td>\n      <td>66</td>\n      <td>Male</td>\n      <td>0.0</td>\n      <td>self_employed</td>\n      <td>187.0</td>\n      <td>2</td>\n      <td>755</td>\n      <td>1458.71</td>\n      <td>...</td>\n      <td>1458.71</td>\n      <td>1449.07</td>\n      <td>0.20</td>\n      <td>0.20</td>\n      <td>0.20</td>\n      <td>0.20</td>\n      <td>1458.71</td>\n      <td>1458.71</td>\n      <td>0</td>\n      <td>2019-05-21</td>\n    </tr>\n    <tr>\n      <th>1</th>\n      <td>2</td>\n      <td>2348</td>\n      <td>35</td>\n      <td>Male</td>\n      <td>0.0</td>\n      <td>self_employed</td>\n      <td>NaN</td>\n      <td>2</td>\n      <td>3214</td>\n      <td>5390.37</td>\n      <td>...</td>\n      <td>7799.26</td>\n      <td>12419.41</td>\n      <td>0.56</td>\n      <td>0.56</td>\n      <td>5486.27</td>\n      <td>100.56</td>\n      <td>6496.78</td>\n      <td>8787.61</td>\n      <td>0</td>\n      <td>2019-11-01</td>\n    </tr>\n    <tr>\n      <th>2</th>\n      <td>4</td>\n      <td>2194</td>\n      <td>31</td>\n      <td>Male</td>\n      <td>0.0</td>\n      <td>salaried</td>\n      <td>146.0</td>\n      <td>2</td>\n      <td>41</td>\n      <td>3913.16</td>\n      <td>...</td>\n      <td>4910.17</td>\n      <td>2815.94</td>\n      <td>0.61</td>\n      <td>0.61</td>\n      <td>6046.73</td>\n      <td>259.23</td>\n      <td>5006.28</td>\n      <td>5070.14</td>\n      <td>0</td>\n      <td>NaT</td>\n    </tr>\n    <tr>\n      <th>3</th>\n      <td>5</td>\n      <td>2329</td>\n      <td>90</td>\n      <td>NaN</td>\n      <td>NaN</td>\n      <td>self_employed</td>\n      <td>1020.0</td>\n      <td>2</td>\n      <td>582</td>\n      <td>2291.91</td>\n      <td>...</td>\n      <td>2084.54</td>\n      <td>1006.54</td>\n      <td>0.47</td>\n      <td>0.47</td>\n      <td>0.47</td>\n      <td>2143.33</td>\n      <td>2291.91</td>\n      <td>1669.79</td>\n      <td>1</td>\n      <td>2019-08-06</td>\n    </tr>\n    <tr>\n      <th>4</th>\n      <td>6</td>\n      <td>1579</td>\n      <td>42</td>\n      <td>Male</td>\n      <td>2.0</td>\n      <td>self_employed</td>\n      <td>1494.0</td>\n      <td>3</td>\n      <td>388</td>\n      <td>927.72</td>\n      <td>...</td>\n      <td>1643.31</td>\n      <td>1871.12</td>\n      <td>0.33</td>\n      <td>714.61</td>\n      <td>588.62</td>\n      <td>1538.06</td>\n      <td>1157.15</td>\n      <td>1677.16</td>\n      <td>1</td>\n      <td>2019-11-03</td>\n    </tr>\n    <tr>\n      <th>...</th>\n      <td>...</td>\n      <td>...</td>\n      <td>...</td>\n      <td>...</td>\n      <td>...</td>\n      <td>...</td>\n      <td>...</td>\n      <td>...</td>\n      <td>...</td>\n      <td>...</td>\n      <td>...</td>\n      <td>...</td>\n      <td>...</td>\n      <td>...</td>\n      <td>...</td>\n      <td>...</td>\n      <td>...</td>\n      <td>...</td>\n      <td>...</td>\n      <td>...</td>\n      <td>...</td>\n    </tr>\n    <tr>\n      <th>28377</th>\n      <td>30297</td>\n      <td>2325</td>\n      <td>10</td>\n      <td>Female</td>\n      <td>0.0</td>\n      <td>student</td>\n      <td>1020.0</td>\n      <td>2</td>\n      <td>1207</td>\n      <td>1076.43</td>\n      <td>...</td>\n      <td>2282.19</td>\n      <td>2787.70</td>\n      <td>0.30</td>\n      <td>0.30</td>\n      <td>0.30</td>\n      <td>0.30</td>\n      <td>1076.43</td>\n      <td>1076.43</td>\n      <td>0</td>\n      <td>2019-10-22</td>\n    </tr>\n    <tr>\n      <th>28378</th>\n      <td>30298</td>\n      <td>1537</td>\n      <td>34</td>\n      <td>Female</td>\n      <td>0.0</td>\n      <td>self_employed</td>\n      <td>1046.0</td>\n      <td>2</td>\n      <td>223</td>\n      <td>3844.10</td>\n      <td>...</td>\n      <td>3668.83</td>\n      <td>3865.55</td>\n      <td>1.71</td>\n      <td>2.29</td>\n      <td>901.00</td>\n      <td>1014.07</td>\n      <td>3738.54</td>\n      <td>3690.32</td>\n      <td>0</td>\n      <td>2019-12-17</td>\n    </tr>\n    <tr>\n      <th>28379</th>\n      <td>30299</td>\n      <td>2376</td>\n      <td>47</td>\n      <td>Male</td>\n      <td>0.0</td>\n      <td>salaried</td>\n      <td>1096.0</td>\n      <td>2</td>\n      <td>588</td>\n      <td>65511.97</td>\n      <td>...</td>\n      <td>53444.81</td>\n      <td>21925.81</td>\n      <td>4666.84</td>\n      <td>3883.06</td>\n      <td>168.23</td>\n      <td>71.80</td>\n      <td>61078.50</td>\n      <td>57564.24</td>\n      <td>1</td>\n      <td>2019-12-31</td>\n    </tr>\n    <tr>\n      <th>28380</th>\n      <td>30300</td>\n      <td>1745</td>\n      <td>50</td>\n      <td>Male</td>\n      <td>3.0</td>\n      <td>self_employed</td>\n      <td>1219.0</td>\n      <td>3</td>\n      <td>274</td>\n      <td>1625.55</td>\n      <td>...</td>\n      <td>1683.20</td>\n      <td>1857.42</td>\n      <td>0.20</td>\n      <td>0.20</td>\n      <td>0.20</td>\n      <td>0.20</td>\n      <td>1625.55</td>\n      <td>1625.55</td>\n      <td>0</td>\n      <td>NaT</td>\n    </tr>\n    <tr>\n      <th>28381</th>\n      <td>30301</td>\n      <td>1175</td>\n      <td>18</td>\n      <td>Male</td>\n      <td>0.0</td>\n      <td>student</td>\n      <td>1232.0</td>\n      <td>2</td>\n      <td>474</td>\n      <td>2107.05</td>\n      <td>...</td>\n      <td>3213.44</td>\n      <td>4447.45</td>\n      <td>0.11</td>\n      <td>7.44</td>\n      <td>714.40</td>\n      <td>1094.09</td>\n      <td>2402.62</td>\n      <td>3260.58</td>\n      <td>1</td>\n      <td>2019-11-02</td>\n    </tr>\n  </tbody>\n</table>\n<p>28382 rows × 21 columns</p>\n</div>"
     },
     "execution_count": 5,
     "metadata": {},
     "output_type": "execute_result"
    }
   ],
   "source": [
    "data = pd.read_csv(\"churn_prediction_dataset.csv\")\n",
    "data\n"
   ],
   "metadata": {
    "collapsed": false,
    "pycharm": {
     "name": "#%%\n"
    }
   }
  },
  {
   "cell_type": "code",
   "execution_count": 6,
   "outputs": [
    {
     "data": {
      "text/plain": "str"
     },
     "execution_count": 6,
     "metadata": {},
     "output_type": "execute_result"
    }
   ],
   "source": [
    "os.getcwd().__class__"
   ],
   "metadata": {
    "collapsed": false,
    "pycharm": {
     "name": "#%%\n"
    }
   }
  }
 ],
 "metadata": {
  "kernelspec": {
   "display_name": "Python 3",
   "language": "python",
   "name": "python3"
  },
  "language_info": {
   "codemirror_mode": {
    "name": "ipython",
    "version": 2
   },
   "file_extension": ".py",
   "mimetype": "text/x-python",
   "name": "python",
   "nbconvert_exporter": "python",
   "pygments_lexer": "ipython2",
   "version": "2.7.6"
  }
 },
 "nbformat": 4,
 "nbformat_minor": 0
}